{
 "cells": [
  {
   "cell_type": "code",
   "execution_count": 14,
   "id": "9a3fded2-9765-481f-af12-75098150b6f1",
   "metadata": {},
   "outputs": [],
   "source": [
    "import pandas as pd\n",
    "import numpy as np\n",
    "import scipy.stats as stats"
   ]
  },
  {
   "cell_type": "code",
   "execution_count": null,
   "id": "efa6a470-c6b9-4164-8824-e9a87dd51c1c",
   "metadata": {},
   "outputs": [],
   "source": [
    "#A company wants to run a new campaign to increase the transactions’ amount of its product.\n",
    "#Before running the actual campaign to the whole customers, the company wants to know the \n",
    "#campaign’s effectiveness in their 30 days transactions’ amount.\n",
    "#The average of transactions’ amount before the campaign is $100.\n",
    "#The company ran a testing on 20 customers and gathered their transactions’ amount in the next 30 \n",
    "#days after the campaign. The data is stored in this table below.\n",
    "#Run a t-test analysis on the transactions’ amount average (with alpha = 5%).\n",
    "\n",
    "#Transactions Amount - 30 days ($)\n",
    "#100 150 50 100 130 120 100 110 75 65\n",
    "#150 120 50 100 100 140 90 150 50 90\n",
    "\n",
    "#Instructions:\n",
    "#● Define H0 and H1\n",
    "#● Follow the steps to do T-Test\n",
    "#● Conclude the result of the campaign testing"
   ]
  },
  {
   "cell_type": "code",
   "execution_count": 15,
   "id": "850668e6-120e-4a34-bd5b-e3619303bca6",
   "metadata": {},
   "outputs": [
    {
     "data": {
      "text/plain": [
       "array([100, 150,  50, 100, 130, 120, 100, 110,  75,  65, 150, 120,  50,\n",
       "       100, 100, 140,  90, 150,  50,  90])"
      ]
     },
     "execution_count": 15,
     "metadata": {},
     "output_type": "execute_result"
    }
   ],
   "source": [
    "#make a array about transactions amount-30 days($)\n",
    "data = np.array([100, 150, 50, 100, 130, 120, 100, 110, 75, 65, \n",
    "                150, 120, 50, 100, 100, 140, 90, 150, 50, 90])\n",
    "data"
   ]
  },
  {
   "cell_type": "code",
   "execution_count": 16,
   "id": "ec4c5dce-6037-48df-aa96-9f62f69e38a3",
   "metadata": {},
   "outputs": [],
   "source": [
    "#Define H0 and H1\n",
    "H0: \"The average Before running the actual campaign = $100\"\n",
    "H1: \"The average Before running the actual campaign > $100\"\n"
   ]
  },
  {
   "cell_type": "code",
   "execution_count": null,
   "id": "9cb65fcb-7566-45a6-a49c-2b1a28ff60ea",
   "metadata": {},
   "outputs": [],
   "source": [
    "#● Follow the steps to do T-Test"
   ]
  },
  {
   "cell_type": "code",
   "execution_count": 59,
   "id": "dcd2d9bd-9a87-4220-aee4-a7482b26b730",
   "metadata": {},
   "outputs": [
    {
     "data": {
      "text/plain": [
       "Ttest_1sampResult(statistic=0.2731657711666385, pvalue=0.787672894169515)"
      ]
     },
     "execution_count": 59,
     "metadata": {},
     "output_type": "execute_result"
    }
   ],
   "source": [
    "#perform one sample t-test\n",
    "\n",
    "t_statistic = stats.ttest_1samp(data, 100)\n",
    "t_statistic"
   ]
  },
  {
   "cell_type": "code",
   "execution_count": 28,
   "id": "db0cd6e4-b91d-4997-bf98-ad74fa7af81d",
   "metadata": {},
   "outputs": [],
   "source": [
    "#statistic=0.2731657711666385, pvalue=0.787672894169515"
   ]
  },
  {
   "cell_type": "code",
   "execution_count": 29,
   "id": "b3208258-fc8e-4211-813f-5c5e1dfcaa18",
   "metadata": {},
   "outputs": [],
   "source": [
    "#For two tailed test:"
   ]
  },
  {
   "cell_type": "code",
   "execution_count": 21,
   "id": "cb45a418-3b8b-4b28-9783-27555a2cb1c3",
   "metadata": {},
   "outputs": [],
   "source": [
    "#If using alpha = 0.05, then the concolusion is P-value larger than alpha, meaning we fail to reject H0\n",
    "#Conclusion: The mean is equal to 100\n",
    "\n",
    "#If using t statistic, we have to find the critical region first:"
   ]
  },
  {
   "cell_type": "code",
   "execution_count": 77,
   "id": "ed61eaee-9761-4bb9-b4f6-f9ff26abea4b",
   "metadata": {},
   "outputs": [
    {
     "data": {
      "text/plain": [
       "(2.093024054408263, -2.093024054408263)"
      ]
     },
     "execution_count": 77,
     "metadata": {},
     "output_type": "execute_result"
    }
   ],
   "source": [
    "t_critical=stats.t.ppf(1-(0.05/2), 19)\n",
    "t_critical\n",
    "#The Code from Critical Region is\n",
    "critical_region = (t_critical, -t_critical)\n",
    "critical_region\n"
   ]
  },
  {
   "cell_type": "code",
   "execution_count": 65,
   "id": "f8e958b3-66c3-4184-9508-4fa23b4ccfba",
   "metadata": {},
   "outputs": [],
   "source": [
    "# Critical Region: t < - 2.09 or t > 2.09\n",
    "# As t statistic is not in the critical region, then we fail to reject H0\n",
    "#Conclusion: The mean is equal to 100"
   ]
  },
  {
   "cell_type": "code",
   "execution_count": 48,
   "id": "8c9ba2e2-46b7-41b4-8e75-29c2f191c0b8",
   "metadata": {},
   "outputs": [],
   "source": [
    "#For One tailed test:"
   ]
  },
  {
   "cell_type": "code",
   "execution_count": 22,
   "id": "09efd6a6-ea69-4d0f-98d1-0286417059a6",
   "metadata": {},
   "outputs": [
    {
     "data": {
      "text/plain": [
       "0.40788481788716524"
      ]
     },
     "execution_count": 22,
     "metadata": {},
     "output_type": "execute_result"
    }
   ],
   "source": [
    "0.8157696357743305/2"
   ]
  },
  {
   "cell_type": "code",
   "execution_count": 67,
   "id": "003d71ad-f137-4bb5-8317-2a101be54234",
   "metadata": {},
   "outputs": [],
   "source": [
    "#If using alpha = 0.05, use P-value/2 = 0.41. Thee concolusion is P-value/2 larger than alpha, meaning we fail to reject H0\n",
    "#Conclusion: The mean is equal to 100\n",
    "\n",
    "#If using t statistic, we have to find the critical region first:"
   ]
  },
  {
   "cell_type": "code",
   "execution_count": 71,
   "id": "ef739f6c-1fdc-4c3f-bf0d-0cdecbe98b7b",
   "metadata": {},
   "outputs": [
    {
     "data": {
      "text/plain": [
       "1.729132811521367"
      ]
     },
     "execution_count": 71,
     "metadata": {},
     "output_type": "execute_result"
    }
   ],
   "source": [
    "# If H1: mean > 100 (right side)\n",
    "stats.t.ppf(1-0.05, 19)\n"
   ]
  },
  {
   "cell_type": "code",
   "execution_count": 70,
   "id": "8f657c7b-3e5f-4549-8524-d20895d799e5",
   "metadata": {
    "tags": []
   },
   "outputs": [],
   "source": [
    "# Critical Region: t > 1.72\n",
    "# As t statistic is not in the critical region, then we fail to reject H0\n",
    "#Conclusion: The mean is equal to 100"
   ]
  },
  {
   "cell_type": "code",
   "execution_count": 72,
   "id": "7020b9b1-7558-4709-8904-cf878c84faac",
   "metadata": {},
   "outputs": [
    {
     "data": {
      "text/plain": [
       "-1.7291328115213678"
      ]
     },
     "execution_count": 72,
     "metadata": {},
     "output_type": "execute_result"
    }
   ],
   "source": [
    "# If H1: mean < 100 (left side)\n",
    "stats.t.ppf(0.05, 19)"
   ]
  },
  {
   "cell_type": "code",
   "execution_count": 73,
   "id": "9d16075a-28ac-49ac-8a28-f99214d0af66",
   "metadata": {},
   "outputs": [],
   "source": [
    "# Critical Region: t < -1.72\n",
    "# As t statistic is not in the critical region, then we fail to reject H0\n",
    "#Conclusion: The mean is equal to 100"
   ]
  },
  {
   "cell_type": "code",
   "execution_count": null,
   "id": "a106dc75-9fb9-4f55-bb5d-e75295f91bba",
   "metadata": {},
   "outputs": [],
   "source": [
    "#● Conclude the result of the campaign testing"
   ]
  },
  {
   "cell_type": "code",
   "execution_count": 75,
   "id": "535527b5-80bc-4580-b9b9-2e4819159dc7",
   "metadata": {},
   "outputs": [
    {
     "name": "stdout",
     "output_type": "stream",
     "text": [
      "Fail to reject the null hypothesis\n"
     ]
    }
   ],
   "source": [
    "#Comparing and Make Conclusion\n",
    "#The Code is\n",
    "if (t_statistic[0] > critical_region[0]) or (t_statistic[0] < critical_region[1]): #t_statistic[0] is the t-statistic\n",
    "    print(\"Reject the null hypothesis\")\n",
    "else:\n",
    "    print(\"Fail to reject the null hypothesis\")\n",
    "\n"
   ]
  },
  {
   "cell_type": "code",
   "execution_count": null,
   "id": "e5d8f388-83d6-4799-9e36-2a491cc5e37e",
   "metadata": {},
   "outputs": [],
   "source": []
  },
  {
   "cell_type": "code",
   "execution_count": null,
   "id": "146f37b6-413a-4500-811c-d7e32d1fb6bc",
   "metadata": {},
   "outputs": [],
   "source": []
  }
 ],
 "metadata": {
  "kernelspec": {
   "display_name": "Python 3 (ipykernel)",
   "language": "python",
   "name": "python3"
  },
  "language_info": {
   "codemirror_mode": {
    "name": "ipython",
    "version": 3
   },
   "file_extension": ".py",
   "mimetype": "text/x-python",
   "name": "python",
   "nbconvert_exporter": "python",
   "pygments_lexer": "ipython3",
   "version": "3.9.12"
  }
 },
 "nbformat": 4,
 "nbformat_minor": 5
}
